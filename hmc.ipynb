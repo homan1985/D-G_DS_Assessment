{
 "cells": [
  {
   "cell_type": "code",
   "execution_count": 1,
   "metadata": {},
   "outputs": [],
   "source": [
    "# Load library\n",
    "import datetime as dt\n",
    "import matplotlib.pyplot as plt\n",
    "import numpy as np\n",
    "import pandas as pd\n",
    "\n",
    "from sklearn.preprocessing import MinMaxScaler\n",
    "from sklearn.linear_model import LogisticRegression\n",
    "from sklearn.model_selection import train_test_split\n",
    "from sklearn.metrics import roc_curve, roc_auc_score, confusion_matrix\n",
    "from sklearn.ensemble import AdaBoostClassifier, GradientBoostingClassifier\n",
    "from sklearn.ensemble.partial_dependence import plot_partial_dependence"
   ]
  },
  {
   "cell_type": "code",
   "execution_count": 2,
   "metadata": {},
   "outputs": [],
   "source": [
    "# File directory (Please change it to where dataset is located)\n",
    "dir = 'F:/ILS Data/ANALYTICS/Analytics Team Items/HoMan Chan/Others/DG/'\n",
    "\n",
    "# Import data\n",
    "df = pd.read_csv(dir + 'ds_assessment_dataset_2024.csv', sep = ';')"
   ]
  },
  {
   "cell_type": "markdown",
   "metadata": {},
   "source": [
    "# Part A. Data Exploration"
   ]
  },
  {
   "cell_type": "code",
   "execution_count": 3,
   "metadata": {
    "scrolled": true
   },
   "outputs": [
    {
     "name": "stdout",
     "output_type": "stream",
     "text": [
      "<class 'pandas.core.frame.DataFrame'>\n",
      "RangeIndex: 50000 entries, 0 to 49999\n",
      "Data columns (total 26 columns):\n",
      " #   Column                            Non-Null Count  Dtype  \n",
      "---  ------                            --------------  -----  \n",
      " 0   Acc                               50000 non-null  int64  \n",
      " 1   ApplianceCode                     50000 non-null  int64  \n",
      " 2   ClaimAmount5YearTotal             50000 non-null  float64\n",
      " 3   ClaimPast5YearCount               50000 non-null  int64  \n",
      " 4   ClaimsToPlansRatio                50000 non-null  float64\n",
      " 5   ClientAccountDesc                 50000 non-null  int64  \n",
      " 6   CurrentDate                       50000 non-null  object \n",
      " 7   DNISCode                          47384 non-null  object \n",
      " 8   Fee                               50000 non-null  float64\n",
      " 9   ManufacturerBrandCode             50000 non-null  int64  \n",
      " 10  ManufacturerGuaranteePartsMonths  50000 non-null  int64  \n",
      " 11  OfferPostcodeSector               50000 non-null  object \n",
      " 12  PlanLiveCount                     50000 non-null  int64  \n",
      " 13  PlansAcceptedPast5YearCount       50000 non-null  int64  \n",
      " 14  PlansCancelledPast5YearCount      50000 non-null  int64  \n",
      " 15  Premium                           50000 non-null  float64\n",
      " 16  PrevRTPPriceType                  7616 non-null   object \n",
      " 17  PurchasePrice                     50000 non-null  float64\n",
      " 18  RTPPriceType                      50000 non-null  object \n",
      " 19  SchemeTypeName                    50000 non-null  int64  \n",
      " 20  age_appliance_days                50000 non-null  float64\n",
      " 21  offerreferencenumber              50000 non-null  object \n",
      " 22  predictedconversionrate           20235 non-null  float64\n",
      " 23  price_diff                        50000 non-null  float64\n",
      " 24  pricingversiondescription         50000 non-null  object \n",
      " 25  relFee                            50000 non-null  float64\n",
      "dtypes: float64(9), int64(10), object(7)\n",
      "memory usage: 9.9+ MB\n"
     ]
    }
   ],
   "source": [
    "# A quick view of data dimensions, data type and missing values \n",
    "df.info()"
   ]
  },
  {
   "cell_type": "code",
   "execution_count": 4,
   "metadata": {},
   "outputs": [
    {
     "data": {
      "text/plain": [
       "Index(['CurrentDate', 'DNISCode', 'OfferPostcodeSector', 'PrevRTPPriceType',\n",
       "       'RTPPriceType', 'offerreferencenumber', 'pricingversiondescription'],\n",
       "      dtype='object')"
      ]
     },
     "execution_count": 4,
     "metadata": {},
     "output_type": "execute_result"
    }
   ],
   "source": [
    "# Identify categorical features\n",
    "df.select_dtypes(['object']).columns"
   ]
  },
  {
   "cell_type": "markdown",
   "metadata": {},
   "source": [
    "More EDA can be found in the Excel workbook inside the repository. "
   ]
  },
  {
   "cell_type": "markdown",
   "metadata": {},
   "source": [
    "# Part B. Price Elasticity"
   ]
  },
  {
   "cell_type": "code",
   "execution_count": 5,
   "metadata": {},
   "outputs": [
    {
     "name": "stdout",
     "output_type": "stream",
     "text": [
      "Price elasticity of model vs. asis : 36.922\n",
      "Price elasticity of price test vs. asis : 36.463\n"
     ]
    }
   ],
   "source": [
    "# Subset data by pricing strategy\n",
    "df_asis = df[df['pricingversiondescription'] == 'QUO - ASIS FEE'].reset_index(drop = True) \n",
    "df_model = df[df['pricingversiondescription'] == 'QUO - MODEL Q'].reset_index(drop = True) \n",
    "df_test = df[df['pricingversiondescription'] == 'QUO - PRICE TEST'].reset_index(drop = True) \n",
    "\n",
    "# Average premium\n",
    "p_asis = df_asis['Premium'].mean()\n",
    "p_model = df_model['Premium'].mean()\n",
    "p_test = df_test['Premium'].mean()\n",
    "\n",
    "# Price variation\n",
    "p_model_var = p_model / p_asis - 1\n",
    "p_test_var = p_test / p_asis - 1\n",
    "\n",
    "# Conversion rate\n",
    "c_asis = df_asis['Acc'].sum() / df_asis.shape[0]\n",
    "c_model = df_model['Acc'].sum() / df_model.shape[0]\n",
    "c_test = df_test['Acc'].sum() / df_test.shape[0]\n",
    "\n",
    "# Conversion variation\n",
    "c_model_var = c_model / c_asis - 1\n",
    "c_test_var = c_test / c_asis - 1\n",
    "\n",
    "# Print results\n",
    "print('Price elasticity of model vs. asis : %.3f' % (c_model_var / p_model_var))\n",
    "print('Price elasticity of price test vs. asis : %.3f' % (c_test_var / p_test_var))"
   ]
  },
  {
   "cell_type": "code",
   "execution_count": 6,
   "metadata": {
    "scrolled": true
   },
   "outputs": [
    {
     "name": "stdout",
     "output_type": "stream",
     "text": [
      "Price elasticity of price test group : -5.277\n"
     ]
    }
   ],
   "source": [
    "# Turn 'CurrentDate' into datetime \n",
    "df_test['CurrentDate'] = pd.to_datetime(df_test['CurrentDate'])\n",
    "\n",
    "# Subset data by year and month for price test group\n",
    "df_test_0224 = df_test[(df_test['CurrentDate'].dt.year == 2024) & (df_test['CurrentDate'].dt.month == 2)].reset_index(drop = True)\n",
    "df_test_0124 = df_test[(df_test['CurrentDate'].dt.year == 2024) & (df_test['CurrentDate'].dt.month == 1)].reset_index(drop = True)\n",
    "\n",
    "# Average premium\n",
    "p_test_0224 = df_test_0224['Premium'].mean()\n",
    "p_test_0124 = df_test_0124['Premium'].mean()\n",
    "\n",
    "# Price variation\n",
    "p_test_grp_var = p_test_0224 / p_test_0124 - 1\n",
    "\n",
    "# Conversion rate\n",
    "c_test_0224 = df_test_0224['Acc'].sum() / df_test_0224.shape[0]\n",
    "c_test_0124 = df_test_0124['Acc'].sum() / df_test_0124.shape[0]\n",
    "\n",
    "# Conversion variation\n",
    "c_test_grp_var = c_test_0224 / c_test_0124 - 1\n",
    "\n",
    "# Print result\n",
    "print('Price elasticity of price test group : %.3f' % (c_test_grp_var / p_test_grp_var))"
   ]
  },
  {
   "cell_type": "markdown",
   "metadata": {},
   "source": [
    "People are usually discouraged by any price increase, so it is expected that conversion rate drops as premium increases. This explains why price elasticity within a group is negative. \n",
    "\n",
    "In contrast, price elasticity of one group verus other reflects the impact on demand when switching from a pricing strategy to another. The positive values tell us positive impact on demand when switching from asis to model / price test."
   ]
  },
  {
   "cell_type": "markdown",
   "metadata": {},
   "source": [
    "# Part C. Model Development & Evaluations"
   ]
  },
  {
   "cell_type": "markdown",
   "metadata": {},
   "source": [
    "## Data Pre-processing"
   ]
  },
  {
   "cell_type": "code",
   "execution_count": 7,
   "metadata": {
    "scrolled": true
   },
   "outputs": [
    {
     "name": "stdout",
     "output_type": "stream",
     "text": [
      "<class 'pandas.core.frame.DataFrame'>\n",
      "RangeIndex: 8617 entries, 0 to 8616\n",
      "Data columns (total 26 columns):\n",
      " #   Column                            Non-Null Count  Dtype         \n",
      "---  ------                            --------------  -----         \n",
      " 0   Acc                               8617 non-null   int64         \n",
      " 1   ApplianceCode                     8617 non-null   int64         \n",
      " 2   ClaimAmount5YearTotal             8617 non-null   float64       \n",
      " 3   ClaimPast5YearCount               8617 non-null   int64         \n",
      " 4   ClaimsToPlansRatio                8617 non-null   float64       \n",
      " 5   ClientAccountDesc                 8617 non-null   int64         \n",
      " 6   CurrentDate                       8617 non-null   datetime64[ns]\n",
      " 7   DNISCode                          8151 non-null   object        \n",
      " 8   Fee                               8617 non-null   float64       \n",
      " 9   ManufacturerBrandCode             8617 non-null   int64         \n",
      " 10  ManufacturerGuaranteePartsMonths  8617 non-null   int64         \n",
      " 11  OfferPostcodeSector               8617 non-null   object        \n",
      " 12  PlanLiveCount                     8617 non-null   int64         \n",
      " 13  PlansAcceptedPast5YearCount       8617 non-null   int64         \n",
      " 14  PlansCancelledPast5YearCount      8617 non-null   int64         \n",
      " 15  Premium                           8617 non-null   float64       \n",
      " 16  PrevRTPPriceType                  1399 non-null   object        \n",
      " 17  PurchasePrice                     8617 non-null   float64       \n",
      " 18  RTPPriceType                      8617 non-null   object        \n",
      " 19  SchemeTypeName                    8617 non-null   int64         \n",
      " 20  age_appliance_days                8617 non-null   float64       \n",
      " 21  offerreferencenumber              8617 non-null   object        \n",
      " 22  predictedconversionrate           0 non-null      float64       \n",
      " 23  price_diff                        8617 non-null   float64       \n",
      " 24  pricingversiondescription         8617 non-null   object        \n",
      " 25  relFee                            8617 non-null   float64       \n",
      "dtypes: datetime64[ns](1), float64(9), int64(10), object(6)\n",
      "memory usage: 1.7+ MB\n"
     ]
    }
   ],
   "source": [
    "# A quick view of the modeling dataset\n",
    "df_test.info()"
   ]
  },
  {
   "cell_type": "markdown",
   "metadata": {},
   "source": [
    "I'm going to get rid of some features because:\n",
    "- There are too many missing values. (PreRTPPriceType and predictedconversionrate)\n",
    "- Irrelevant to prediction. (ClientAccountDesc, CurrentDate, RTPPriceType, offerreferencenumber, pricingversiondescription)\n",
    "\n",
    "For rest of the categorical features, I'll check if they are nominal or ordinal then apply different encoding methods accordingly."
   ]
  },
  {
   "cell_type": "markdown",
   "metadata": {},
   "source": [
    "### - Appliance Code"
   ]
  },
  {
   "cell_type": "code",
   "execution_count": 8,
   "metadata": {
    "scrolled": true
   },
   "outputs": [
    {
     "data": {
      "text/plain": [
       "array([38, 67,  3, 16,  6, 22, 28,  5, 26, 60, 49,  7,  2,  9, 35, 15, 23,\n",
       "       17, 59, 53, 41, 61, 31, 48, 66, 34, 46, 45, 11,  4, 33, 25, 14, 47,\n",
       "       44, 57, 39, 54, 69, 18, 24,  8,  1, 37, 12, 56, 40, 42, 58, 21, 52],\n",
       "      dtype=int64)"
      ]
     },
     "execution_count": 8,
     "metadata": {},
     "output_type": "execute_result"
    }
   ],
   "source": [
    "df_test['ApplianceCode'].unique()"
   ]
  },
  {
   "cell_type": "markdown",
   "metadata": {},
   "source": [
    "Too many class levels. I'll drop it for now. It might be useful in feature creation (part d) though."
   ]
  },
  {
   "cell_type": "markdown",
   "metadata": {},
   "source": [
    "### - DNIS Code"
   ]
  },
  {
   "cell_type": "code",
   "execution_count": 9,
   "metadata": {
    "scrolled": true
   },
   "outputs": [
    {
     "data": {
      "text/plain": [
       "array(['CQ9R1', 'RR3A1', 'SQ9R1', 'RR1K1', 'OQ4Q1', 'QQ9R1', 'OQ9R1',\n",
       "       'RR0Y1', 'RR4Q1', 'RR8A1', nan, 'CQ0C1', 'CQ4Q1', 'RR2M1', 'RR471',\n",
       "       'RR691', 'RR041', 'RR4A2', 'RR1P1', 'SQ2M1', 'MQ9R1', 'TQ9R1',\n",
       "       'RR6D1', 'RR5E1', 'SQ152', 'SQ4A1', 'RR9J1', 'SQ011', 'CQ0Y1',\n",
       "       'OSA21', 'RE9A1', 'SQ0C1', 'RR9R1', 'SQ4Q1', 'QQ1P1', 'RR191',\n",
       "       'RR5B1', 'RR7C1', 'SQ0Y1', 'SQ0U1', 'SB9A1', 'QQ4Q1', 'RR0Z1',\n",
       "       'RR661', 'SQ9J1', 'SQ9X1', 'RR0U1', 'CQ2Z1', 'SQ041', 'RR6W1',\n",
       "       'RR0T1', 'RR9Q1', 'CQ2M1', 'RR9K1', 'CQ9J1', 'RR1C1', 'SQ661',\n",
       "       'SBFI1', 'RR7V1', 'RR311', 'SK4F1', 'SSA21', 'SQ2Z1', 'RR8M1',\n",
       "       'TQ0C1', 'REFI1', 'CQ9X1', 'RR8D1', 'RR081', 'OQ2Z1', 'RK4F1',\n",
       "       'RR161', 'SQ221', 'RR881', 'RR9X1', 'SQD81', 'SB9M1', 'OQ9J1'],\n",
       "      dtype=object)"
      ]
     },
     "execution_count": 9,
     "metadata": {},
     "output_type": "execute_result"
    }
   ],
   "source": [
    "df_test['DNISCode'].unique()"
   ]
  },
  {
   "cell_type": "markdown",
   "metadata": {},
   "source": [
    "Drop it for the same reason as 'ApplianceCode'. "
   ]
  },
  {
   "cell_type": "markdown",
   "metadata": {},
   "source": [
    "### - Manufacturer Brand Code"
   ]
  },
  {
   "cell_type": "code",
   "execution_count": 10,
   "metadata": {
    "scrolled": true
   },
   "outputs": [
    {
     "data": {
      "text/plain": [
       "array([233, 135, 128, 261,  46, 131,  32, 273, 282, 195, 228, 148, 327,\n",
       "       161, 212, 304,  39,  30, 207, 272, 235,  48,  80, 127, 175, 215,\n",
       "        87, 181,  76, 159, 171, 143, 137, 251, 221, 187, 108,  59, 208,\n",
       "       218,   4, 271, 323, 216,  69, 314, 168, 196,  37, 295, 257,  27,\n",
       "       286,  13, 289, 211, 223,  68, 117, 302, 104,  74, 279,  83,   0,\n",
       "       305, 200, 121, 201, 210, 202, 188,  55,  29, 123, 100,  85,  86,\n",
       "        51,  61, 180,  40, 213,  35,  64, 315, 142, 325,  18, 179, 177,\n",
       "        43, 209,  50, 293, 154, 206,  78, 283, 106, 309, 170, 236, 103,\n",
       "       292, 237,  97,  38, 243, 249,  15, 141, 253, 146, 182, 265, 276,\n",
       "       184, 157,  49, 264, 319, 118, 263, 124, 306,  16, 230,  22,  92,\n",
       "        34,   7, 112,  57, 160, 328, 299, 326, 300, 288,  12, 115,  54,\n",
       "       320,  96, 301, 101, 258, 281,  66,  21,  79, 255, 126, 266, 239,\n",
       "       172, 183, 136, 242, 219, 308, 129,  70, 324,  44, 205,  17, 294,\n",
       "        81, 125, 214, 162, 153, 156, 321, 312,  71, 105,   6, 240, 191,\n",
       "         1, 122, 220,  56,  25, 199, 318, 145, 203,   9, 224, 169, 284,\n",
       "       138, 173, 134], dtype=int64)"
      ]
     },
     "execution_count": 10,
     "metadata": {},
     "output_type": "execute_result"
    }
   ],
   "source": [
    "df_test['ManufacturerBrandCode'].unique()"
   ]
  },
  {
   "cell_type": "markdown",
   "metadata": {},
   "source": [
    "Drop it for the same reason as 'ApplianceCode'."
   ]
  },
  {
   "cell_type": "markdown",
   "metadata": {},
   "source": [
    "### - Manufacturer Guarantee Parts Months"
   ]
  },
  {
   "cell_type": "code",
   "execution_count": 11,
   "metadata": {},
   "outputs": [],
   "source": [
    "df_test['ManufacturerGuaranteePartsMonths'].unique()\n",
    "\n",
    "# Ordinal mapping \n",
    "df_test['ManufacturerGuaranteePartsMonths'] = df_test['ManufacturerGuaranteePartsMonths'].map({12:1, 24:2, 36:3, 60:4, 120:5})"
   ]
  },
  {
   "cell_type": "markdown",
   "metadata": {},
   "source": [
    "This is ordinal, so I encoded it 1 - 5 manually."
   ]
  },
  {
   "cell_type": "markdown",
   "metadata": {},
   "source": [
    "### - Scheme Type Name"
   ]
  },
  {
   "cell_type": "code",
   "execution_count": 12,
   "metadata": {},
   "outputs": [],
   "source": [
    "df_test['SchemeTypeName'].unique()\n",
    "\n",
    "df_new = df_test.copy()\n",
    "\n",
    "df_new = df_new.drop(['ApplianceCode', 'ClientAccountDesc', 'CurrentDate', 'PrevRTPPriceType', 'RTPPriceType', \n",
    "                      'offerreferencenumber', 'predictedconversionrate', 'pricingversiondescription', 'DNISCode', \n",
    "                      'OfferPostcodeSector', 'ManufacturerBrandCode'], axis = 1)"
   ]
  },
  {
   "cell_type": "markdown",
   "metadata": {},
   "source": [
    "This is nominal, so I applied one-hot encoding."
   ]
  },
  {
   "cell_type": "markdown",
   "metadata": {},
   "source": [
    "## Feature Engineering"
   ]
  },
  {
   "cell_type": "code",
   "execution_count": 13,
   "metadata": {},
   "outputs": [
    {
     "data": {
      "text/plain": [
       "(8617, 21)"
      ]
     },
     "execution_count": 13,
     "metadata": {},
     "output_type": "execute_result"
    }
   ],
   "source": [
    "# Convert categorical data into dummy variables\n",
    "df_enc = pd.get_dummies(df_new, columns = ['SchemeTypeName'])\n",
    "\n",
    "df_enc.shape"
   ]
  },
  {
   "cell_type": "code",
   "execution_count": 14,
   "metadata": {},
   "outputs": [],
   "source": [
    "# Target variable\n",
    "model_resp = df_enc['Acc']\n",
    "\n",
    "# Predictor variables\n",
    "model_data = df_enc.drop(['Acc'], axis = 1)"
   ]
  },
  {
   "cell_type": "code",
   "execution_count": 15,
   "metadata": {},
   "outputs": [
    {
     "name": "stderr",
     "output_type": "stream",
     "text": [
      "E:\\Anaconda3\\envs\\HMC_env\\lib\\site-packages\\sklearn\\preprocessing\\data.py:334: DataConversionWarning: Data with input dtype uint8, int64, float64 were all converted to float64 by MinMaxScaler.\n",
      "  return self.partial_fit(X, y)\n"
     ]
    },
    {
     "data": {
      "text/html": [
       "<div>\n",
       "<style scoped>\n",
       "    .dataframe tbody tr th:only-of-type {\n",
       "        vertical-align: middle;\n",
       "    }\n",
       "\n",
       "    .dataframe tbody tr th {\n",
       "        vertical-align: top;\n",
       "    }\n",
       "\n",
       "    .dataframe thead th {\n",
       "        text-align: right;\n",
       "    }\n",
       "</style>\n",
       "<table border=\"1\" class=\"dataframe\">\n",
       "  <thead>\n",
       "    <tr style=\"text-align: right;\">\n",
       "      <th></th>\n",
       "      <th>ClaimAmount5YearTotal</th>\n",
       "      <th>ClaimPast5YearCount</th>\n",
       "      <th>ClaimsToPlansRatio</th>\n",
       "      <th>Fee</th>\n",
       "      <th>ManufacturerGuaranteePartsMonths</th>\n",
       "      <th>PlanLiveCount</th>\n",
       "      <th>PlansAcceptedPast5YearCount</th>\n",
       "      <th>PlansCancelledPast5YearCount</th>\n",
       "      <th>Premium</th>\n",
       "      <th>PurchasePrice</th>\n",
       "      <th>age_appliance_days</th>\n",
       "      <th>price_diff</th>\n",
       "      <th>relFee</th>\n",
       "      <th>SchemeTypeName_0</th>\n",
       "      <th>SchemeTypeName_1</th>\n",
       "      <th>SchemeTypeName_2</th>\n",
       "      <th>SchemeTypeName_3</th>\n",
       "      <th>SchemeTypeName_4</th>\n",
       "      <th>SchemeTypeName_5</th>\n",
       "      <th>SchemeTypeName_6</th>\n",
       "    </tr>\n",
       "  </thead>\n",
       "  <tbody>\n",
       "    <tr>\n",
       "      <th>count</th>\n",
       "      <td>8617.000000</td>\n",
       "      <td>8617.000000</td>\n",
       "      <td>8617.000000</td>\n",
       "      <td>8617.000000</td>\n",
       "      <td>8617.000000</td>\n",
       "      <td>8617.000000</td>\n",
       "      <td>8617.000000</td>\n",
       "      <td>8617.000000</td>\n",
       "      <td>8617.000000</td>\n",
       "      <td>8617.000000</td>\n",
       "      <td>8617.000000</td>\n",
       "      <td>8617.000000</td>\n",
       "      <td>8617.000000</td>\n",
       "      <td>8617.000000</td>\n",
       "      <td>8617.000000</td>\n",
       "      <td>8617.000000</td>\n",
       "      <td>8617.000000</td>\n",
       "      <td>8617.000000</td>\n",
       "      <td>8617.000000</td>\n",
       "      <td>8617.000000</td>\n",
       "    </tr>\n",
       "    <tr>\n",
       "      <th>mean</th>\n",
       "      <td>0.023181</td>\n",
       "      <td>0.033981</td>\n",
       "      <td>0.062217</td>\n",
       "      <td>0.526184</td>\n",
       "      <td>0.243385</td>\n",
       "      <td>0.060568</td>\n",
       "      <td>0.022347</td>\n",
       "      <td>0.021033</td>\n",
       "      <td>0.540403</td>\n",
       "      <td>0.351454</td>\n",
       "      <td>0.342876</td>\n",
       "      <td>0.500817</td>\n",
       "      <td>0.005145</td>\n",
       "      <td>0.572009</td>\n",
       "      <td>0.026111</td>\n",
       "      <td>0.038761</td>\n",
       "      <td>0.037948</td>\n",
       "      <td>0.015203</td>\n",
       "      <td>0.043867</td>\n",
       "      <td>0.266102</td>\n",
       "    </tr>\n",
       "    <tr>\n",
       "      <th>std</th>\n",
       "      <td>0.049852</td>\n",
       "      <td>0.063119</td>\n",
       "      <td>0.095875</td>\n",
       "      <td>0.237652</td>\n",
       "      <td>0.369092</td>\n",
       "      <td>0.081430</td>\n",
       "      <td>0.039358</td>\n",
       "      <td>0.042825</td>\n",
       "      <td>0.251114</td>\n",
       "      <td>0.205645</td>\n",
       "      <td>0.257546</td>\n",
       "      <td>0.271284</td>\n",
       "      <td>0.035731</td>\n",
       "      <td>0.494816</td>\n",
       "      <td>0.159475</td>\n",
       "      <td>0.193035</td>\n",
       "      <td>0.191082</td>\n",
       "      <td>0.122365</td>\n",
       "      <td>0.204811</td>\n",
       "      <td>0.441944</td>\n",
       "    </tr>\n",
       "    <tr>\n",
       "      <th>min</th>\n",
       "      <td>0.000000</td>\n",
       "      <td>0.000000</td>\n",
       "      <td>0.000000</td>\n",
       "      <td>0.000000</td>\n",
       "      <td>0.000000</td>\n",
       "      <td>0.000000</td>\n",
       "      <td>0.000000</td>\n",
       "      <td>0.000000</td>\n",
       "      <td>0.000000</td>\n",
       "      <td>0.000000</td>\n",
       "      <td>0.000000</td>\n",
       "      <td>0.000000</td>\n",
       "      <td>0.000000</td>\n",
       "      <td>0.000000</td>\n",
       "      <td>0.000000</td>\n",
       "      <td>0.000000</td>\n",
       "      <td>0.000000</td>\n",
       "      <td>0.000000</td>\n",
       "      <td>0.000000</td>\n",
       "      <td>0.000000</td>\n",
       "    </tr>\n",
       "    <tr>\n",
       "      <th>25%</th>\n",
       "      <td>0.000000</td>\n",
       "      <td>0.000000</td>\n",
       "      <td>0.000000</td>\n",
       "      <td>0.350926</td>\n",
       "      <td>0.000000</td>\n",
       "      <td>0.000000</td>\n",
       "      <td>0.000000</td>\n",
       "      <td>0.000000</td>\n",
       "      <td>0.353680</td>\n",
       "      <td>0.249374</td>\n",
       "      <td>0.111688</td>\n",
       "      <td>0.274266</td>\n",
       "      <td>0.002022</td>\n",
       "      <td>0.000000</td>\n",
       "      <td>0.000000</td>\n",
       "      <td>0.000000</td>\n",
       "      <td>0.000000</td>\n",
       "      <td>0.000000</td>\n",
       "      <td>0.000000</td>\n",
       "      <td>0.000000</td>\n",
       "    </tr>\n",
       "    <tr>\n",
       "      <th>50%</th>\n",
       "      <td>0.004009</td>\n",
       "      <td>0.008772</td>\n",
       "      <td>0.025000</td>\n",
       "      <td>0.510185</td>\n",
       "      <td>0.000000</td>\n",
       "      <td>0.027778</td>\n",
       "      <td>0.008511</td>\n",
       "      <td>0.005000</td>\n",
       "      <td>0.523339</td>\n",
       "      <td>0.289391</td>\n",
       "      <td>0.334147</td>\n",
       "      <td>0.500000</td>\n",
       "      <td>0.003046</td>\n",
       "      <td>1.000000</td>\n",
       "      <td>0.000000</td>\n",
       "      <td>0.000000</td>\n",
       "      <td>0.000000</td>\n",
       "      <td>0.000000</td>\n",
       "      <td>0.000000</td>\n",
       "      <td>0.000000</td>\n",
       "    </tr>\n",
       "    <tr>\n",
       "      <th>75%</th>\n",
       "      <td>0.026099</td>\n",
       "      <td>0.043860</td>\n",
       "      <td>0.100000</td>\n",
       "      <td>0.694444</td>\n",
       "      <td>0.250000</td>\n",
       "      <td>0.083333</td>\n",
       "      <td>0.029787</td>\n",
       "      <td>0.025000</td>\n",
       "      <td>0.713645</td>\n",
       "      <td>0.416180</td>\n",
       "      <td>0.557217</td>\n",
       "      <td>0.730369</td>\n",
       "      <td>0.004024</td>\n",
       "      <td>1.000000</td>\n",
       "      <td>0.000000</td>\n",
       "      <td>0.000000</td>\n",
       "      <td>0.000000</td>\n",
       "      <td>0.000000</td>\n",
       "      <td>0.000000</td>\n",
       "      <td>1.000000</td>\n",
       "    </tr>\n",
       "    <tr>\n",
       "      <th>max</th>\n",
       "      <td>1.000000</td>\n",
       "      <td>1.000000</td>\n",
       "      <td>1.000000</td>\n",
       "      <td>1.000000</td>\n",
       "      <td>1.000000</td>\n",
       "      <td>1.000000</td>\n",
       "      <td>1.000000</td>\n",
       "      <td>1.000000</td>\n",
       "      <td>1.000000</td>\n",
       "      <td>1.000000</td>\n",
       "      <td>1.000000</td>\n",
       "      <td>1.000000</td>\n",
       "      <td>1.000000</td>\n",
       "      <td>1.000000</td>\n",
       "      <td>1.000000</td>\n",
       "      <td>1.000000</td>\n",
       "      <td>1.000000</td>\n",
       "      <td>1.000000</td>\n",
       "      <td>1.000000</td>\n",
       "      <td>1.000000</td>\n",
       "    </tr>\n",
       "  </tbody>\n",
       "</table>\n",
       "</div>"
      ],
      "text/plain": [
       "       ClaimAmount5YearTotal  ClaimPast5YearCount  ClaimsToPlansRatio  \\\n",
       "count            8617.000000          8617.000000         8617.000000   \n",
       "mean                0.023181             0.033981            0.062217   \n",
       "std                 0.049852             0.063119            0.095875   \n",
       "min                 0.000000             0.000000            0.000000   \n",
       "25%                 0.000000             0.000000            0.000000   \n",
       "50%                 0.004009             0.008772            0.025000   \n",
       "75%                 0.026099             0.043860            0.100000   \n",
       "max                 1.000000             1.000000            1.000000   \n",
       "\n",
       "               Fee  ManufacturerGuaranteePartsMonths  PlanLiveCount  \\\n",
       "count  8617.000000                       8617.000000    8617.000000   \n",
       "mean      0.526184                          0.243385       0.060568   \n",
       "std       0.237652                          0.369092       0.081430   \n",
       "min       0.000000                          0.000000       0.000000   \n",
       "25%       0.350926                          0.000000       0.000000   \n",
       "50%       0.510185                          0.000000       0.027778   \n",
       "75%       0.694444                          0.250000       0.083333   \n",
       "max       1.000000                          1.000000       1.000000   \n",
       "\n",
       "       PlansAcceptedPast5YearCount  PlansCancelledPast5YearCount      Premium  \\\n",
       "count                  8617.000000                   8617.000000  8617.000000   \n",
       "mean                      0.022347                      0.021033     0.540403   \n",
       "std                       0.039358                      0.042825     0.251114   \n",
       "min                       0.000000                      0.000000     0.000000   \n",
       "25%                       0.000000                      0.000000     0.353680   \n",
       "50%                       0.008511                      0.005000     0.523339   \n",
       "75%                       0.029787                      0.025000     0.713645   \n",
       "max                       1.000000                      1.000000     1.000000   \n",
       "\n",
       "       PurchasePrice  age_appliance_days   price_diff       relFee  \\\n",
       "count    8617.000000         8617.000000  8617.000000  8617.000000   \n",
       "mean        0.351454            0.342876     0.500817     0.005145   \n",
       "std         0.205645            0.257546     0.271284     0.035731   \n",
       "min         0.000000            0.000000     0.000000     0.000000   \n",
       "25%         0.249374            0.111688     0.274266     0.002022   \n",
       "50%         0.289391            0.334147     0.500000     0.003046   \n",
       "75%         0.416180            0.557217     0.730369     0.004024   \n",
       "max         1.000000            1.000000     1.000000     1.000000   \n",
       "\n",
       "       SchemeTypeName_0  SchemeTypeName_1  SchemeTypeName_2  SchemeTypeName_3  \\\n",
       "count       8617.000000       8617.000000       8617.000000       8617.000000   \n",
       "mean           0.572009          0.026111          0.038761          0.037948   \n",
       "std            0.494816          0.159475          0.193035          0.191082   \n",
       "min            0.000000          0.000000          0.000000          0.000000   \n",
       "25%            0.000000          0.000000          0.000000          0.000000   \n",
       "50%            1.000000          0.000000          0.000000          0.000000   \n",
       "75%            1.000000          0.000000          0.000000          0.000000   \n",
       "max            1.000000          1.000000          1.000000          1.000000   \n",
       "\n",
       "       SchemeTypeName_4  SchemeTypeName_5  SchemeTypeName_6  \n",
       "count       8617.000000       8617.000000       8617.000000  \n",
       "mean           0.015203          0.043867          0.266102  \n",
       "std            0.122365          0.204811          0.441944  \n",
       "min            0.000000          0.000000          0.000000  \n",
       "25%            0.000000          0.000000          0.000000  \n",
       "50%            0.000000          0.000000          0.000000  \n",
       "75%            0.000000          0.000000          1.000000  \n",
       "max            1.000000          1.000000          1.000000  "
      ]
     },
     "execution_count": 15,
     "metadata": {},
     "output_type": "execute_result"
    }
   ],
   "source": [
    "# Normalize data from original scale to a range of 0 - 1\n",
    "scaler = MinMaxScaler()\n",
    "\n",
    "data_rescaled = scaler.fit_transform(model_data)\n",
    "\n",
    "model_data = pd.DataFrame(data = data_rescaled, columns = model_data.columns)\n",
    "\n",
    "model_data.describe()"
   ]
  },
  {
   "cell_type": "markdown",
   "metadata": {},
   "source": [
    "## Building Lasso Regression model"
   ]
  },
  {
   "cell_type": "code",
   "execution_count": 16,
   "metadata": {},
   "outputs": [
    {
     "name": "stdout",
     "output_type": "stream",
     "text": [
      "Train response mean: 0.341\n",
      "Test response mean: 0.349\n"
     ]
    }
   ],
   "source": [
    "# train test split\n",
    "train_data, test_data, train_resp, test_resp = train_test_split(model_data, model_resp, test_size=0.30, random_state=42)\n",
    "\n",
    "print('Train response mean: %.3f' % train_resp.mean()) \n",
    "print('Test response mean: %.3f' % test_resp.mean())  "
   ]
  },
  {
   "cell_type": "code",
   "execution_count": 17,
   "metadata": {},
   "outputs": [
    {
     "data": {
      "text/plain": [
       "LogisticRegression(C=1.0, class_weight=None, dual=False, fit_intercept=True,\n",
       "          intercept_scaling=1, max_iter=1000, multi_class='warn',\n",
       "          n_jobs=None, penalty='l1', random_state=42, solver='liblinear',\n",
       "          tol=0.0001, verbose=0, warm_start=False)"
      ]
     },
     "execution_count": 17,
     "metadata": {},
     "output_type": "execute_result"
    }
   ],
   "source": [
    "# Lasso regression\n",
    "lasso = LogisticRegression(penalty = 'l1', solver = 'liblinear', max_iter = 1000, random_state = 42)\n",
    "lasso.fit(train_data, train_resp)"
   ]
  },
  {
   "cell_type": "code",
   "execution_count": 18,
   "metadata": {},
   "outputs": [
    {
     "name": "stdout",
     "output_type": "stream",
     "text": [
      "Train probability score mean: 0.341\n",
      "Test probability score mean: 0.345\n",
      "AUC (train): 0.783\n",
      "AUC (test): 0.758\n",
      "False Negative Rate : 0.558\n"
     ]
    }
   ],
   "source": [
    "# Generate probability scores based on train / test\n",
    "train_prob = lasso.predict_proba(train_data)[:, 1]\n",
    "test_prob = lasso.predict_proba(test_data)[:, 1]\n",
    "\n",
    "# Compare response rates between train and test to see any overfitting\n",
    "print('Train probability score mean: %.3f' % train_prob.mean()) \n",
    "print('Test probability score mean: %.3f' % test_prob.mean())    \n",
    "\n",
    "# Get AUC for train set and test set\n",
    "lasso_train_auc = roc_auc_score(train_resp, train_prob)\n",
    "lasso_test_auc = roc_auc_score(test_resp, test_prob)\n",
    "print('AUC (train): %.3f' % lasso_train_auc)       \n",
    "print('AUC (test): %.3f' % lasso_test_auc)  \n",
    "\n",
    "# Calculate false positive rate and false negative rate \n",
    "test_pred = lasso.predict(test_data)\n",
    "tn, fp, fn, tp = confusion_matrix(test_resp, test_pred).ravel()\n",
    "lasso_fnr = fn / (tp + fn)\n",
    "print('False Negative Rate : %.3f' % lasso_fnr)"
   ]
  },
  {
   "cell_type": "code",
   "execution_count": 19,
   "metadata": {
    "scrolled": false
   },
   "outputs": [
    {
     "data": {
      "image/png": "[encoded data removed]",
      "text/plain": [
       "<Figure size 432x288 with 1 Axes>"
      ]
     },
     "metadata": {
      "needs_background": "light"
     },
     "output_type": "display_data"
    }
   ],
   "source": [
    "# ROC Curve\n",
    "fpr, tpr, thresholds = roc_curve(test_resp, test_prob)\n",
    "\n",
    "plt.figure()\n",
    "plt.plot(fpr, tpr, label='Lasso Model (area = %0.3f)' % roc_auc_score(test_resp, test_prob))\n",
    "plt.xlim([0.0, 1.0])\n",
    "plt.ylim([0.0, 1.05])\n",
    "plt.xlabel('False Positive Rate')\n",
    "plt.ylabel('True Positive Rate')\n",
    "plt.title('ROC Curve')\n",
    "plt.legend(loc=\"lower right\")\n",
    "plt.show()"
   ]
  },
  {
   "cell_type": "markdown",
   "metadata": {},
   "source": [
    "## Build AdaBoost model"
   ]
  },
  {
   "cell_type": "code",
   "execution_count": 20,
   "metadata": {},
   "outputs": [
    {
     "data": {
      "text/plain": [
       "AdaBoostClassifier(algorithm='SAMME.R', base_estimator=None,\n",
       "          learning_rate=1.0, n_estimators=100, random_state=42)"
      ]
     },
     "execution_count": 20,
     "metadata": {},
     "output_type": "execute_result"
    }
   ],
   "source": [
    "adb = AdaBoostClassifier(n_estimators = 100, random_state = 42)\n",
    "adb.fit(train_data, train_resp)"
   ]
  },
  {
   "cell_type": "code",
   "execution_count": 21,
   "metadata": {},
   "outputs": [
    {
     "name": "stdout",
     "output_type": "stream",
     "text": [
      "Train probability score mean: 0.498\n",
      "Test probability score mean: 0.498\n",
      "AUC (train): 0.825\n",
      "AUC (test): 0.771\n",
      "False Negative Rate : 0.531\n"
     ]
    }
   ],
   "source": [
    "# Generate probability scores based on train / test\n",
    "train_prob = adb.predict_proba(X = train_data)[:, 1]\n",
    "test_prob = adb.predict_proba(X = test_data)[:, 1]\n",
    "\n",
    "# Compare response rates between train and test to see any overfitting\n",
    "print('Train probability score mean: %.3f' % train_prob.mean()) \n",
    "print('Test probability score mean: %.3f' % test_prob.mean())  \n",
    "\n",
    "# Get AUC for train set and test set\n",
    "adb_train_auc = roc_auc_score(train_resp, train_prob)\n",
    "adb_test_auc = roc_auc_score(test_resp, test_prob)\n",
    "print('AUC (train): %.3f' % adb_train_auc)\n",
    "print('AUC (test): %.3f' % adb_test_auc)\n",
    "\n",
    "# Calculate false positive rate and false negative rate \n",
    "test_pred = adb.predict(test_data)\n",
    "tn, fp, fn, tp = confusion_matrix(test_resp, test_pred).ravel()\n",
    "adb_fnr = fn / (tp + fn)\n",
    "print('False Negative Rate : %.3f' % adb_fnr) "
   ]
  },
  {
   "cell_type": "code",
   "execution_count": 22,
   "metadata": {},
   "outputs": [
    {
     "data": {
      "image/png": "[encoded data removed]",
      "text/plain": [
       "<Figure size 432x288 with 1 Axes>"
      ]
     },
     "metadata": {
      "needs_background": "light"
     },
     "output_type": "display_data"
    }
   ],
   "source": [
    "# ROC Curve\n",
    "fpr, tpr, thresholds = roc_curve(test_resp, test_prob)\n",
    "\n",
    "plt.figure()\n",
    "plt.plot(fpr, tpr, label='AdaBoost Model (area = %0.3f)' % roc_auc_score(test_resp, test_prob))\n",
    "plt.xlim([0.0, 1.0])\n",
    "plt.ylim([0.0, 1.05])\n",
    "plt.xlabel('False Positive Rate')\n",
    "plt.ylabel('True Positive Rate')\n",
    "plt.title('ROC Curve')\n",
    "plt.legend(loc=\"lower right\")\n",
    "plt.show()"
   ]
  },
  {
   "cell_type": "markdown",
   "metadata": {},
   "source": [
    "## Building GBM model"
   ]
  },
  {
   "cell_type": "code",
   "execution_count": 23,
   "metadata": {},
   "outputs": [
    {
     "data": {
      "text/plain": [
       "GradientBoostingClassifier(criterion='friedman_mse', init=None,\n",
       "              learning_rate=0.1, loss='deviance', max_depth=3,\n",
       "              max_features='sqrt', max_leaf_nodes=None,\n",
       "              min_impurity_decrease=0.0, min_impurity_split=None,\n",
       "              min_samples_leaf=1, min_samples_split=2,\n",
       "              min_weight_fraction_leaf=0.0, n_estimators=100,\n",
       "              n_iter_no_change=10, presort='auto', random_state=42,\n",
       "              subsample=1.0, tol=0.001, validation_fraction=0.1, verbose=0,\n",
       "              warm_start=False)"
      ]
     },
     "execution_count": 23,
     "metadata": {},
     "output_type": "execute_result"
    }
   ],
   "source": [
    "gbm = GradientBoostingClassifier(max_features='sqrt', n_iter_no_change=10, tol=0.001, random_state = 42)\n",
    "gbm.fit(train_data, train_resp)"
   ]
  },
  {
   "cell_type": "code",
   "execution_count": 24,
   "metadata": {
    "scrolled": true
   },
   "outputs": [
    {
     "name": "stdout",
     "output_type": "stream",
     "text": [
      "Train probability score mean: 0.342\n",
      "Test probability score mean: 0.343\n",
      "AUC (train): 0.846\n",
      "AUC (test): 0.784\n",
      "False Negative Rate : 0.534\n"
     ]
    }
   ],
   "source": [
    "# Generate probability scores based on train / test\n",
    "train_prob = gbm.predict_proba(X = train_data)[:, 1]\n",
    "test_prob = gbm.predict_proba(X = test_data)[:, 1]\n",
    "\n",
    "# Compare response rates between train and test to see any overfitting\n",
    "print('Train probability score mean: %.3f' % train_prob.mean()) \n",
    "print('Test probability score mean: %.3f' % test_prob.mean())  \n",
    "\n",
    "# Get AUC for train set and test set\n",
    "gbm_train_auc = roc_auc_score(train_resp, train_prob)\n",
    "gbm_test_auc = roc_auc_score(test_resp, test_prob)\n",
    "print('AUC (train): %.3f' % gbm_train_auc)\n",
    "print('AUC (test): %.3f' % gbm_test_auc)\n",
    "\n",
    "# Calculate false positive rate and false negative rate \n",
    "test_pred = gbm.predict(test_data)\n",
    "tn, fp, fn, tp = confusion_matrix(test_resp, test_pred).ravel()\n",
    "gbm_fnr = fn / (tp + fn)\n",
    "print('False Negative Rate : %.3f' % gbm_fnr) "
   ]
  },
  {
   "cell_type": "code",
   "execution_count": 25,
   "metadata": {},
   "outputs": [
    {
     "data": {
      "image/png": "[encoded data removed]",
      "text/plain": [
       "<Figure size 432x288 with 1 Axes>"
      ]
     },
     "metadata": {
      "needs_background": "light"
     },
     "output_type": "display_data"
    }
   ],
   "source": [
    "# ROC Curve\n",
    "fpr, tpr, thresholds = roc_curve(test_resp, test_prob)\n",
    "\n",
    "plt.figure()\n",
    "plt.plot(fpr, tpr, label='GBM Model (area = %0.3f)' % roc_auc_score(test_resp, test_prob))\n",
    "plt.xlim([0.0, 1.0])\n",
    "plt.ylim([0.0, 1.05])\n",
    "plt.xlabel('False Positive Rate')\n",
    "plt.ylabel('True Positive Rate')\n",
    "plt.title('ROC Curve')\n",
    "plt.legend(loc=\"lower right\")\n",
    "plt.show()"
   ]
  },
  {
   "cell_type": "markdown",
   "metadata": {},
   "source": [
    "For hyperparameter tuning of GBM, I would focus on parameters \"min_impurity_decrease\", \"learning_rate\", \"n_estimators\", \"max_depth\", \"min_samples_split\", \"min_samples_leaf\", \"subsample\", \"max_features\", and tune them one by one. The steps I usually take are as follows.\n",
    "1. Create a list of parameter setting dict.\n",
    "2. Assign the list to \"param_grid\" inside GridSearchCV and run 5-fold cross validation.\n",
    "3. Once the run finished, use attributes \"best_params_\" and \"best_score_\" to compare the score (e.g. AUC) and parameter setting of the best estimator with the previous run.\n",
    "4. Assign the best parameter setting to the corresponding parameter.\n",
    "5. Repeat step 1 - 4 until all parameters are tuned or no AUC uplift can be seen."
   ]
  },
  {
   "cell_type": "code",
   "execution_count": 26,
   "metadata": {
    "scrolled": true
   },
   "outputs": [
    {
     "name": "stdout",
     "output_type": "stream",
     "text": [
      "      Model       AUC  False Negative Rate\n",
      "0     Lasso  0.758047             0.557650\n",
      "1  AdaBoost  0.771468             0.531042\n",
      "2       GBM  0.784349             0.534368\n"
     ]
    }
   ],
   "source": [
    "# Combine results of the 3 models for easy comparison\n",
    "data = [['Lasso', lasso_test_auc, lasso_fnr], ['AdaBoost', adb_test_auc, adb_fnr],\n",
    "       ['GBM', gbm_test_auc, gbm_fnr]]\n",
    "result = pd.DataFrame(data, columns = ['Model', 'AUC', 'False Negative Rate'])\n",
    "print(result)"
   ]
  },
  {
   "cell_type": "markdown",
   "metadata": {},
   "source": [
    "AUC is the standard metric in every model evaluation. Additionally, business needs should be taken account into measuring the performance of machine learning models. In my experience, no quote return or irrational quote return could be resulted when an underwriter believed customers were unlikely to buy. If this is the case in D&G, false negative cases should be concerned as they lead to lost opportunity. \n",
    "\n",
    "GBM model achieved the highest AUC among the 3 models. Though it came second behind AdaBoost model in false positive rate, the difference is not significant. Additionally, GradientBoostingClassifier offers many options of hyperparameters for tuning, which leaves more rooms for model performance improvement. Therefore, I would select GBM model to be 'go-to' model in predicting demand. "
   ]
  },
  {
   "cell_type": "markdown",
   "metadata": {},
   "source": [
    "# Part D. Feature Creation"
   ]
  },
  {
   "cell_type": "markdown",
   "metadata": {},
   "source": [
    "(Please refer below to the Excel workbook in the repository)\n",
    "\n",
    "For the categorical features that I dropped earlier, I calculated volume proportions and conversion rate of different class levels for each of them. If any class level had volume proportions greater than 10% and conversion rate greater than 34.3%, I would create a flag variable for that class level. "
   ]
  },
  {
   "cell_type": "code",
   "execution_count": 27,
   "metadata": {},
   "outputs": [
    {
     "name": "stderr",
     "output_type": "stream",
     "text": [
      "E:\\Anaconda3\\envs\\HMC_env\\lib\\site-packages\\pandas\\core\\ops\\array_ops.py:253: FutureWarning: elementwise comparison failed; returning scalar instead, but in the future will perform elementwise comparison\n",
      "  res_values = method(rvalues)\n"
     ]
    }
   ],
   "source": [
    "model_data_fc = model_data.copy()\n",
    "\n",
    "model_data_fc['SQ9R1_flag'] = df_test['DNISCode'] == 'SQ9R1'\n",
    "model_data_fc['CQ9R1_flag'] = df_test['DNISCode'] == 'CQ9R1'\n",
    "model_data_fc['QQ9R1_flag'] = df_test['DNISCode'] == 'QQ9R1'\n",
    "model_data_fc['Appliance38_flag'] = df_test['ApplianceCode'] == '38'\n",
    "model_data_fc['Brand261_flag'] = df_test['ManufacturerBrandCode'] == '261'"
   ]
  },
  {
   "cell_type": "code",
   "execution_count": 28,
   "metadata": {},
   "outputs": [
    {
     "name": "stdout",
     "output_type": "stream",
     "text": [
      "Train response mean: 0.341\n",
      "Test response mean: 0.349\n"
     ]
    }
   ],
   "source": [
    "# train test split\n",
    "train_data, test_data, train_resp, test_resp = train_test_split(model_data_fc, model_resp, test_size=0.30, random_state=42)\n",
    "\n",
    "print('Train response mean: %.3f' % train_resp.mean()) \n",
    "print('Test response mean: %.3f' % test_resp.mean())  "
   ]
  },
  {
   "cell_type": "code",
   "execution_count": 29,
   "metadata": {},
   "outputs": [
    {
     "name": "stdout",
     "output_type": "stream",
     "text": [
      "Train probability score mean: 0.342\n",
      "Test probability score mean: 0.344\n",
      "AUC (train): 0.854\n",
      "AUC (test): 0.794\n",
      "False Positive Rate : 0.149\n",
      "False Negative Rate : 0.502\n"
     ]
    }
   ],
   "source": [
    "gbm.fit(train_data, train_resp)\n",
    "\n",
    "# Generate probability scores based on train / test\n",
    "train_prob = gbm.predict_proba(X = train_data)[:, 1]\n",
    "test_prob = gbm.predict_proba(X = test_data)[:, 1]\n",
    "\n",
    "# Compare response rates between train and test to see any overfitting\n",
    "print('Train probability score mean: %.3f' % train_prob.mean()) \n",
    "print('Test probability score mean: %.3f' % test_prob.mean())  \n",
    "\n",
    "# Get AUC for train set and test set\n",
    "gbm_fc_train_auc = roc_auc_score(train_resp, train_prob)\n",
    "gbm_fc_test_auc = roc_auc_score(test_resp, test_prob)\n",
    "print('AUC (train): %.3f' % gbm_fc_train_auc)\n",
    "print('AUC (test): %.3f' % gbm_fc_test_auc)\n",
    "\n",
    "# Calculate false positive rate and false negative rate \n",
    "test_pred = gbm.predict(test_data)\n",
    "tn, fp, fn, tp = confusion_matrix(test_resp, test_pred).ravel()\n",
    "gbm_fc_fpr = fp / (fp + tn)\n",
    "gbm_fc_fnr = fn / (tp + fn)\n",
    "print('False Positive Rate : %.3f' % gbm_fc_fpr)\n",
    "print('False Negative Rate : %.3f' % gbm_fc_fnr) "
   ]
  },
  {
   "cell_type": "code",
   "execution_count": 30,
   "metadata": {},
   "outputs": [
    {
     "data": {
      "image/png": "[encoded data removed]",
      "text/plain": [
       "<Figure size 432x288 with 1 Axes>"
      ]
     },
     "metadata": {
      "needs_background": "light"
     },
     "output_type": "display_data"
    }
   ],
   "source": [
    "# ROC Curve\n",
    "fpr, tpr, thresholds = roc_curve(test_resp, test_prob)\n",
    "\n",
    "plt.figure()\n",
    "plt.plot(fpr, tpr, label='GBM Model (area = %0.3f)' % roc_auc_score(test_resp, test_prob))\n",
    "plt.xlim([0.0, 1.0])\n",
    "plt.ylim([0.0, 1.05])\n",
    "plt.xlabel('False Positive Rate')\n",
    "plt.ylabel('True Positive Rate')\n",
    "plt.title('ROC Curve')\n",
    "plt.legend(loc=\"lower right\")\n",
    "plt.show()"
   ]
  },
  {
   "cell_type": "markdown",
   "metadata": {},
   "source": [
    "Given by the addition of the 5 new features, the demand model improved with a 1.3% uplift in AUC (0.784 vs. 0.794)."
   ]
  },
  {
   "cell_type": "markdown",
   "metadata": {},
   "source": [
    "# Part E. Top 5 Most Important Features  "
   ]
  },
  {
   "cell_type": "code",
   "execution_count": 31,
   "metadata": {},
   "outputs": [
    {
     "name": "stdout",
     "output_type": "stream",
     "text": [
      "                            Variable       Imp\n",
      "10                age_appliance_days  0.184465\n",
      "11                        price_diff  0.156615\n",
      "3                                Fee  0.107148\n",
      "19                  SchemeTypeName_6  0.093948\n",
      "5                      PlanLiveCount  0.067967\n",
      "8                            Premium  0.054767\n",
      "6        PlansAcceptedPast5YearCount  0.052465\n",
      "16                  SchemeTypeName_3  0.046356\n",
      "4   ManufacturerGuaranteePartsMonths  0.035693\n",
      "22                        QQ9R1_flag  0.035208\n"
     ]
    },
    {
     "data": {
      "image/png": "[encoded data removed]",
      "text/plain": [
       "<Figure size 432x288 with 1 Axes>"
      ]
     },
     "metadata": {
      "needs_background": "light"
     },
     "output_type": "display_data"
    }
   ],
   "source": [
    "# Get feature importance values, sort in descending order, and show top 10 only\n",
    "FeatureImp = pd.DataFrame(list(train_data.columns)).copy()\n",
    "FeatureImp.insert(len(FeatureImp.columns), 'Imp', gbm.feature_importances_.transpose())\n",
    "FeatureImp = FeatureImp[FeatureImp.Imp != 0]\n",
    "FeatureImp.rename(columns={0: 'Variable'}, inplace=True)\n",
    "FeatureImp = FeatureImp.sort_values(by='Imp', ascending=False)\n",
    "print(FeatureImp.head(10))\n",
    "\n",
    "# Plot the top 5 highest Feature Importance\n",
    "plt.clf()\n",
    "plt.barh(FeatureImp['Variable'].head(5), FeatureImp['Imp'].head(5))\n",
    "plt.title('Top 5 Feature Importance')\n",
    "plt.xlabel('Feature Importance Score')\n",
    "plt.show()"
   ]
  },
  {
   "cell_type": "code",
   "execution_count": 32,
   "metadata": {
    "scrolled": true
   },
   "outputs": [
    {
     "data": {
      "image/png": "[encoded data removed]",
      "text/plain": [
       "<Figure size 864x360 with 5 Axes>"
      ]
     },
     "metadata": {
      "needs_background": "light"
     },
     "output_type": "display_data"
    }
   ],
   "source": [
    "# Partial independence plot\n",
    "fig, ax = plot_partial_dependence(gbm,       \n",
    "                                   features = [0, 1, 2, 3, 4], \n",
    "                                   X = model_data_fc,            # raw predictors data.\n",
    "                                   feature_names = ['age_appliance_days', 'price_diff', 'PlansAcceptedPast5YearCount',\n",
    "                                                   'Fee', 'SchemeTypeName_6'], \n",
    "                                   grid_resolution = 10) # number of values to plot on x axis\n",
    "\n",
    "fig.set_figwidth(12)\n",
    "fig.set_figheight(5)\n",
    "fig.tight_layout()"
   ]
  },
  {
   "cell_type": "markdown",
   "metadata": {},
   "source": [
    "Based on the feature importance score, the model believed age_appliance_days was the most important feature in prediction. \n",
    "\n",
    "Partial dependence plot suggests a non-linear relationship between age_appliance_days and the predicted outcome (i.e. likelihood to accept) as the line exhibits bends. In general, customers tend to accept D&G's quotes after they bought their appliances not long ago. As the appliance age grew, customers no longer saw the necessity for product protection, so they became more reluctant to accept D&G's quotes. "
   ]
  },
  {
   "cell_type": "markdown",
   "metadata": {},
   "source": [
    "# Part F. What-if Analysis"
   ]
  },
  {
   "cell_type": "code",
   "execution_count": 33,
   "metadata": {},
   "outputs": [
    {
     "name": "stdout",
     "output_type": "stream",
     "text": [
      "Predicted conversion rate (after price increase): 0.339\n",
      "Actual conversion rate (before price increase): 0.343\n",
      "Price elasticity : -0.114\n"
     ]
    }
   ],
   "source": [
    "# New data with premium increased by 10%\n",
    "model_data_new = model_data_fc.copy()\n",
    "model_data_new['Premium'] = model_data_fc['Premium'] * 1.1\n",
    "\n",
    "# Score new data with GBM model\n",
    "pred_conv_new = gbm.predict_proba(X = model_data_new)[:, 1]\n",
    "print('Predicted conversion rate (after price increase): %.3f' % pred_conv_new.mean())\n",
    "\n",
    "# Calculate conversion rate before price increase\n",
    "conv = model_resp.sum() / model_resp.count()\n",
    "print('Actual conversion rate (before price increase): %.3f' % conv)\n",
    "\n",
    "# Use predicted conversion rate to work out price elasticity\n",
    "print('Price elasticity : %.3f' % (((pred_conv_new.mean() / conv) - 1) / 0.1))"
   ]
  },
  {
   "cell_type": "markdown",
   "metadata": {},
   "source": [
    "The GBM model predicted the conversion rate would be 33.8% after 10% premium increase, which is 0.5% drop compared to the actual conversion rate before change. Price elasticity adjusted from -5.277 (obtained from part b) to -0.114."
   ]
  }
 ],
 "metadata": {
  "kernelspec": {
   "display_name": "Python 3",
   "language": "python",
   "name": "python3"
  },
  "language_info": {
   "codemirror_mode": {
    "name": "ipython",
    "version": 3
   },
   "file_extension": ".py",
   "mimetype": "text/x-python",
   "name": "python",
   "nbconvert_exporter": "python",
   "pygments_lexer": "ipython3",
   "version": "3.7.5"
  }
 },
 "nbformat": 4,
 "nbformat_minor": 4
}
